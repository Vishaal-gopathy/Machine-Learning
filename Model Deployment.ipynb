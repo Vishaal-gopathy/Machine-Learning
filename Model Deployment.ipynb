{
 "cells": [
  {
   "cell_type": "code",
   "execution_count": 4,
   "id": "30901648",
   "metadata": {},
   "outputs": [],
   "source": [
    "import pickle\n",
    "import gradio as gr\n",
    "import numpy as np\n",
    "import pandas as pd"
   ]
  },
  {
   "cell_type": "code",
   "execution_count": 2,
   "id": "e885e3a2",
   "metadata": {},
   "outputs": [],
   "source": [
    "with open('final_model.pkl','rb') as file:\n",
    "    model=pickle.load(file)"
   ]
  },
  {
   "cell_type": "code",
   "execution_count": 6,
   "id": "fd1a5f20",
   "metadata": {},
   "outputs": [],
   "source": [
    "def prediction(lt,mark,spcl,price,noa,wends,parking,wnights,a_day,a_month,a_wday):\n",
    "    input=[[lt,mark,spcl,price,noa,wends,parking,wnights,a_day,a_month,a_wday]]\n",
    "    prediction=model.predict_proba(input)[:,1][0]\n",
    "    \n",
    "    return round(prediction,3)"
   ]
  },
  {
   "cell_type": "code",
   "execution_count": 7,
   "id": "19c7ace5",
   "metadata": {},
   "outputs": [
    {
     "data": {
      "text/plain": [
       "0.157"
      ]
     },
     "execution_count": 7,
     "metadata": {},
     "output_type": "execute_result"
    }
   ],
   "source": [
    "prediction(20,1,1,120,1,2,0,1,1,1,4)"
   ]
  },
  {
   "cell_type": "code",
   "execution_count": null,
   "id": "43173252",
   "metadata": {},
   "outputs": [],
   "source": []
  },
  {
   "cell_type": "code",
   "execution_count": 9,
   "id": "78d5319c",
   "metadata": {},
   "outputs": [],
   "source": [
    "# Interface\n",
    "iface = gr.Interface(fn=prediction,\n",
    "                     inputs=[gr.Number(label='How many days prior booking was made?'),\n",
    "                             gr.Dropdown([('Online',1),('Offline',0)],label = 'Booking was Online/Offline?'),\n",
    "                             gr.Dropdown([0,1,2,3,4,5],label = 'How many Special Requests?'),\n",
    "                             gr.Number(label='What is the Room Price?'),\n",
    "                             gr.Dropdown([1,2,3,4,5],label='Count of Adults?'),\n",
    "                             gr.Number(label='How many weekends in the stay?'),\n",
    "                             gr.Dropdown([('yes',1),('No',0)],label='Does customer require parking?'),\n",
    "                             gr.Number(label='How many weeknights in the stay?'),\n",
    "                             gr.Slider(minimum=1,maximum=31,step=1,label='Day of arrival?'),\n",
    "                             gr.Slider(minimum=1,maximum=12,step=1,label='Month of arrival?'),\n",
    "                             gr.Dropdown([('Mon',0),('Tue',1),('Wed',2),('Thus',3),('Fri',4),('Sat',5),('Sun',6)],\n",
    "                                         label = 'Weekday of arrival')],\n",
    "                     outputs=gr.Textbox(label='Chances of getting this bookind Canceled'),\n",
    "                     title='INN Hotel Bookings',\n",
    "                     description='This app will predict the chances of cancellation',\n",
    "                     allow_flagging='never')"
   ]
  },
  {
   "cell_type": "code",
   "execution_count": 10,
   "id": "0da1906e",
   "metadata": {},
   "outputs": [
    {
     "name": "stdout",
     "output_type": "stream",
     "text": [
      "Running on local URL:  http://127.0.0.1:7860\n",
      "\n",
      "To create a public link, set `share=True` in `launch()`.\n"
     ]
    },
    {
     "data": {
      "text/html": [
       "<div><iframe src=\"http://127.0.0.1:7860/\" width=\"100%\" height=\"500\" allow=\"autoplay; camera; microphone; clipboard-read; clipboard-write;\" frameborder=\"0\" allowfullscreen></iframe></div>"
      ],
      "text/plain": [
       "<IPython.core.display.HTML object>"
      ]
     },
     "metadata": {},
     "output_type": "display_data"
    },
    {
     "data": {
      "text/plain": []
     },
     "execution_count": 10,
     "metadata": {},
     "output_type": "execute_result"
    }
   ],
   "source": [
    "iface.launch()"
   ]
  },
  {
   "cell_type": "code",
   "execution_count": null,
   "id": "ba83bd9d",
   "metadata": {},
   "outputs": [],
   "source": []
  }
 ],
 "metadata": {
  "kernelspec": {
   "display_name": "Python 3 (ipykernel)",
   "language": "python",
   "name": "python3"
  },
  "language_info": {
   "codemirror_mode": {
    "name": "ipython",
    "version": 3
   },
   "file_extension": ".py",
   "mimetype": "text/x-python",
   "name": "python",
   "nbconvert_exporter": "python",
   "pygments_lexer": "ipython3",
   "version": "3.11.5"
  }
 },
 "nbformat": 4,
 "nbformat_minor": 5
}
